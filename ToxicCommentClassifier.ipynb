{
 "cells": [
  {
   "cell_type": "code",
   "execution_count": 1,
   "id": "cdedb708-cd28-4868-b380-4125d9024057",
   "metadata": {},
   "outputs": [],
   "source": [
    "import pandas as pd"
   ]
  },
  {
   "cell_type": "code",
   "execution_count": 2,
   "id": "62c5cef2-3d4e-48d1-a38b-9808e43a7216",
   "metadata": {},
   "outputs": [],
   "source": [
    "path = 'datasets/dataset.csv'"
   ]
  },
  {
   "cell_type": "code",
   "execution_count": 3,
   "id": "467a5dbe-dbab-497d-8ac8-a33132f64628",
   "metadata": {},
   "outputs": [],
   "source": [
    "reviews = pd.read_csv(path, names=['content', 'review'], header=None)"
   ]
  },
  {
   "cell_type": "code",
   "execution_count": 4,
   "id": "d67fd864-8e66-4091-84fd-1116932fb8f6",
   "metadata": {},
   "outputs": [
    {
     "data": {
      "text/html": [
       "<div>\n",
       "<style scoped>\n",
       "    .dataframe tbody tr th:only-of-type {\n",
       "        vertical-align: middle;\n",
       "    }\n",
       "\n",
       "    .dataframe tbody tr th {\n",
       "        vertical-align: top;\n",
       "    }\n",
       "\n",
       "    .dataframe thead th {\n",
       "        text-align: right;\n",
       "    }\n",
       "</style>\n",
       "<table border=\"1\" class=\"dataframe\">\n",
       "  <thead>\n",
       "    <tr style=\"text-align: right;\">\n",
       "      <th></th>\n",
       "      <th>content</th>\n",
       "      <th>review</th>\n",
       "    </tr>\n",
       "  </thead>\n",
       "  <tbody>\n",
       "    <tr>\n",
       "      <th>0</th>\n",
       "      <td>review</td>\n",
       "      <td>sentiment</td>\n",
       "    </tr>\n",
       "    <tr>\n",
       "      <th>1</th>\n",
       "      <td>One of the other reviewers has mentioned that ...</td>\n",
       "      <td>positive</td>\n",
       "    </tr>\n",
       "    <tr>\n",
       "      <th>2</th>\n",
       "      <td>A wonderful little production. &lt;br /&gt;&lt;br /&gt;The...</td>\n",
       "      <td>positive</td>\n",
       "    </tr>\n",
       "    <tr>\n",
       "      <th>3</th>\n",
       "      <td>I thought this was a wonderful way to spend ti...</td>\n",
       "      <td>positive</td>\n",
       "    </tr>\n",
       "    <tr>\n",
       "      <th>4</th>\n",
       "      <td>Basically there's a family where a little boy ...</td>\n",
       "      <td>negative</td>\n",
       "    </tr>\n",
       "    <tr>\n",
       "      <th>...</th>\n",
       "      <td>...</td>\n",
       "      <td>...</td>\n",
       "    </tr>\n",
       "    <tr>\n",
       "      <th>49996</th>\n",
       "      <td>I thought this movie did a down right good job...</td>\n",
       "      <td>positive</td>\n",
       "    </tr>\n",
       "    <tr>\n",
       "      <th>49997</th>\n",
       "      <td>Bad plot, bad dialogue, bad acting, idiotic di...</td>\n",
       "      <td>negative</td>\n",
       "    </tr>\n",
       "    <tr>\n",
       "      <th>49998</th>\n",
       "      <td>I am a Catholic taught in parochial elementary...</td>\n",
       "      <td>negative</td>\n",
       "    </tr>\n",
       "    <tr>\n",
       "      <th>49999</th>\n",
       "      <td>I'm going to have to disagree with the previou...</td>\n",
       "      <td>negative</td>\n",
       "    </tr>\n",
       "    <tr>\n",
       "      <th>50000</th>\n",
       "      <td>No one expects the Star Trek movies to be high...</td>\n",
       "      <td>negative</td>\n",
       "    </tr>\n",
       "  </tbody>\n",
       "</table>\n",
       "<p>50001 rows × 2 columns</p>\n",
       "</div>"
      ],
      "text/plain": [
       "                                                 content     review\n",
       "0                                                 review  sentiment\n",
       "1      One of the other reviewers has mentioned that ...   positive\n",
       "2      A wonderful little production. <br /><br />The...   positive\n",
       "3      I thought this was a wonderful way to spend ti...   positive\n",
       "4      Basically there's a family where a little boy ...   negative\n",
       "...                                                  ...        ...\n",
       "49996  I thought this movie did a down right good job...   positive\n",
       "49997  Bad plot, bad dialogue, bad acting, idiotic di...   negative\n",
       "49998  I am a Catholic taught in parochial elementary...   negative\n",
       "49999  I'm going to have to disagree with the previou...   negative\n",
       "50000  No one expects the Star Trek movies to be high...   negative\n",
       "\n",
       "[50001 rows x 2 columns]"
      ]
     },
     "execution_count": 4,
     "metadata": {},
     "output_type": "execute_result"
    }
   ],
   "source": [
    "reviews"
   ]
  },
  {
   "cell_type": "code",
   "execution_count": 5,
   "id": "8aefe7b1-d16f-4b0a-911b-9c6416d933d7",
   "metadata": {},
   "outputs": [],
   "source": [
    "import re\n",
    "import nltk"
   ]
  },
  {
   "cell_type": "code",
   "execution_count": 6,
   "id": "c4b84b8e-4b0a-4182-b655-ea939007d4c2",
   "metadata": {},
   "outputs": [],
   "source": [
    "from nltk.corpus import stopwords\n",
    "from nltk.stem.porter import PorterStemmer\n",
    "ps = PorterStemmer()"
   ]
  },
  {
   "cell_type": "code",
   "execution_count": null,
   "id": "d9cc0c49-f2c1-4415-b1c6-656cefadb97e",
   "metadata": {},
   "outputs": [],
   "source": [
    "corpus = []\n",
    "\n",
    "for i in range (0,len(reviews)):\n",
    "  word = re.sub('[^a-zA-Z]', ' ', reviews.iloc[i]['content'])\n",
    "  word = word.lower()\n",
    "  word = word.split()\n",
    "  word = [ps.stem(w) for w in word if not w in stopwords.words('english')]\n",
    "  word = \" \".join(word)\n",
    "  corpus.append(word)"
   ]
  },
  {
   "cell_type": "raw",
   "id": "9fed0f90-b8b4-45f7-a17b-f21231613287",
   "metadata": {},
   "source": [
    "corpus"
   ]
  },
  {
   "cell_type": "raw",
   "id": "8d0b9494-fbf4-46ef-b4c0-1fa254f31383",
   "metadata": {},
   "source": []
  },
  {
   "cell_type": "code",
   "execution_count": null,
   "id": "59e087f1-2cc8-4228-a060-4e2efc622fbf",
   "metadata": {},
   "outputs": [],
   "source": []
  }
 ],
 "metadata": {
  "kernelspec": {
   "display_name": "Python 3 (ipykernel)",
   "language": "python",
   "name": "python3"
  },
  "language_info": {
   "codemirror_mode": {
    "name": "ipython",
    "version": 3
   },
   "file_extension": ".py",
   "mimetype": "text/x-python",
   "name": "python",
   "nbconvert_exporter": "python",
   "pygments_lexer": "ipython3",
   "version": "3.12.4"
  }
 },
 "nbformat": 4,
 "nbformat_minor": 5
}
